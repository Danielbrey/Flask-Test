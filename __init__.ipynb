{
 "cells": [
  {
   "cell_type": "code",
   "execution_count": null,
   "metadata": {},
   "outputs": [
    {
     "name": "stdout",
     "output_type": "stream",
     "text": [
      " * Serving Flask app \"__main__\" (lazy loading)\n",
      " * Environment: production\n",
      "   WARNING: Do not use the development server in a production environment.\n",
      "   Use a production WSGI server instead.\n",
      " * Debug mode: off\n"
     ]
    },
    {
     "name": "stderr",
     "output_type": "stream",
     "text": [
      " * Running on http://127.0.0.1:5000/ (Press CTRL+C to quit)\n",
      "127.0.0.1 - - [05/Feb/2021 10:41:04] \"GET / HTTP/1.1\" 200 -\n",
      "127.0.0.1 - - [05/Feb/2021 10:41:08] \"GET /hi/ HTTP/1.1\" 200 -\n",
      "[2021-02-05 10:41:12,414] ERROR in app: Exception on /hi/dan [GET]\n",
      "Traceback (most recent call last):\n",
      "  File \"/Users/danielbrey/anaconda3/lib/python3.7/site-packages/flask/app.py\", line 2292, in wsgi_app\n",
      "    response = self.full_dispatch_request()\n",
      "  File \"/Users/danielbrey/anaconda3/lib/python3.7/site-packages/flask/app.py\", line 1815, in full_dispatch_request\n",
      "    rv = self.handle_user_exception(e)\n",
      "  File \"/Users/danielbrey/anaconda3/lib/python3.7/site-packages/flask/app.py\", line 1718, in handle_user_exception\n",
      "    reraise(exc_type, exc_value, tb)\n",
      "  File \"/Users/danielbrey/anaconda3/lib/python3.7/site-packages/flask/_compat.py\", line 35, in reraise\n",
      "    raise value\n",
      "  File \"/Users/danielbrey/anaconda3/lib/python3.7/site-packages/flask/app.py\", line 1813, in full_dispatch_request\n",
      "    rv = self.dispatch_request()\n",
      "  File \"/Users/danielbrey/anaconda3/lib/python3.7/site-packages/flask/app.py\", line 1799, in dispatch_request\n",
      "    return self.view_functions[rule.endpoint](**req.view_args)\n",
      "  File \"<ipython-input-1-5dccf75cf664>\", line 19, in greet\n",
      "    return render_template('template.html', title = \"Greet\", user = {username})\n",
      "  File \"/Users/danielbrey/anaconda3/lib/python3.7/site-packages/flask/templating.py\", line 134, in render_template\n",
      "    return _render(ctx.app.jinja_env.get_or_select_template(template_name_or_list),\n",
      "  File \"/Users/danielbrey/anaconda3/lib/python3.7/site-packages/jinja2/environment.py\", line 869, in get_or_select_template\n",
      "    return self.get_template(template_name_or_list, parent, globals)\n",
      "  File \"/Users/danielbrey/anaconda3/lib/python3.7/site-packages/jinja2/environment.py\", line 830, in get_template\n",
      "    return self._load_template(name, self.make_globals(globals))\n",
      "  File \"/Users/danielbrey/anaconda3/lib/python3.7/site-packages/jinja2/environment.py\", line 804, in _load_template\n",
      "    template = self.loader.load(self, name, globals)\n",
      "  File \"/Users/danielbrey/anaconda3/lib/python3.7/site-packages/jinja2/loaders.py\", line 113, in load\n",
      "    source, filename, uptodate = self.get_source(environment, name)\n",
      "  File \"/Users/danielbrey/anaconda3/lib/python3.7/site-packages/flask/templating.py\", line 58, in get_source\n",
      "    return self._get_source_fast(environment, template)\n",
      "  File \"/Users/danielbrey/anaconda3/lib/python3.7/site-packages/flask/templating.py\", line 86, in _get_source_fast\n",
      "    raise TemplateNotFound(template)\n",
      "jinja2.exceptions.TemplateNotFound: template.html\n",
      "127.0.0.1 - - [05/Feb/2021 10:41:12] \"GET /hi/dan HTTP/1.1\" 500 -\n"
     ]
    }
   ],
   "source": [
    "from flask import Flask\n",
    "from flask import render_template\n",
    "#from example_blueprint import example_blueprint\n",
    "\n",
    "app = Flask(__name__)\n",
    "#app.debug = True\n",
    "\n",
    "@app.route('/')\n",
    "def intro():\n",
    "    return \"hello\"\n",
    "\n",
    "@app.route('/hi/')\n",
    "def index():\n",
    "    return render_template('template1.html', title = 'Home', user = \"what's your name?\")\n",
    "\n",
    "@app.route('/hi/<username>')\n",
    "def greet(username):\n",
    "    return f\"Hello, {username}!\"\n",
    "    #return render_template('template.html', title = \"Greet\", user = {username})\n",
    "\n",
    "#app.register_blueprint(example_blueprint)\n",
    "\n",
    "if __name__ == '__main__':\n",
    "           app.run()"
   ]
  },
  {
   "cell_type": "code",
   "execution_count": null,
   "metadata": {},
   "outputs": [],
   "source": []
  },
  {
   "cell_type": "code",
   "execution_count": null,
   "metadata": {},
   "outputs": [],
   "source": []
  }
 ],
 "metadata": {
  "kernelspec": {
   "display_name": "Python 3",
   "language": "python",
   "name": "python3"
  },
  "language_info": {
   "codemirror_mode": {
    "name": "ipython",
    "version": 3
   },
   "file_extension": ".py",
   "mimetype": "text/x-python",
   "name": "python",
   "nbconvert_exporter": "python",
   "pygments_lexer": "ipython3",
   "version": "3.7.1"
  }
 },
 "nbformat": 4,
 "nbformat_minor": 2
}
